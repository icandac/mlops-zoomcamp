{
 "cells": [
  {
   "cell_type": "code",
   "execution_count": 1,
   "metadata": {},
   "outputs": [],
   "source": [
    "import pandas as pd\n",
    "import numpy as np\n",
    "from sklearn.feature_extraction import DictVectorizer"
   ]
  },
  {
   "cell_type": "code",
   "execution_count": 2,
   "metadata": {},
   "outputs": [],
   "source": [
    "# Reading files\n",
    "df_jan = pd.read_parquet('../../../data/yellow_tripdata_2023-01.parquet')\n",
    "df_feb = pd.read_parquet('../../../data/yellow_tripdata_2023-02.parquet')"
   ]
  },
  {
   "cell_type": "code",
   "execution_count": 3,
   "metadata": {},
   "outputs": [
    {
     "data": {
      "text/plain": [
       "19"
      ]
     },
     "execution_count": 3,
     "metadata": {},
     "output_type": "execute_result"
    }
   ],
   "source": [
    "# Question 1: How many columns there are (in January data)?\n",
    "len(df_jan.columns)"
   ]
  },
  {
   "cell_type": "code",
   "execution_count": 4,
   "metadata": {},
   "outputs": [
    {
     "data": {
      "text/plain": [
       "42.594"
      ]
     },
     "execution_count": 4,
     "metadata": {},
     "output_type": "execute_result"
    }
   ],
   "source": [
    "# Question 2: Std of duration variable\n",
    "df_jan['duration'] = round((df_jan['tpep_dropoff_datetime'] - df_jan['tpep_pickup_datetime']).dt.total_seconds() / 60, 3)\n",
    "std_duration = round(np.std(df_jan['duration']), 3).item()\n",
    "std_duration"
   ]
  },
  {
   "cell_type": "code",
   "execution_count": 5,
   "metadata": {},
   "outputs": [
    {
     "name": "stdout",
     "output_type": "stream",
     "text": [
      "98.1 %\n"
     ]
    }
   ],
   "source": [
    "# Question 3: Filter the outliers\n",
    "df_jan_filtered = df_jan[(df_jan['duration'] >= 1) & (df_jan['duration'] <= 60)]\n",
    "fraction_after_outliers = round(len(df_jan_filtered) / len(df_jan), 3) * 100\n",
    "print(fraction_after_outliers, '%')"
   ]
  },
  {
   "cell_type": "code",
   "execution_count": 6,
   "metadata": {},
   "outputs": [
    {
     "name": "stdout",
     "output_type": "stream",
     "text": [
      "Matrix shape: (3009173, 515)\n",
      "Number of one-hot columns: 515\n"
     ]
    }
   ],
   "source": [
    "# Question 4: Dimensionality of the features matrix (number of columns)\n",
    "# Subset & cast to str\n",
    "df_ids = df_jan_filtered[[\"PULocationID\", \"DOLocationID\"]].astype(str)\n",
    "# To list of dicts\n",
    "records = df_ids.to_dict(orient=\"records\")\n",
    "# Fit the vectorizer\n",
    "from sklearn.feature_extraction import DictVectorizer\n",
    "dv = DictVectorizer(sparse=True)\n",
    "dv.fit(records)\n",
    "# Transform to feature matrix\n",
    "X = dv.transform(records)\n",
    "\n",
    "# Dimensionality\n",
    "n_samples, n_features = X.shape\n",
    "print(\"Matrix shape:\", X.shape)\n",
    "print(\"Number of one-hot columns:\", n_features)"
   ]
  },
  {
   "cell_type": "code",
   "execution_count": 7,
   "metadata": {},
   "outputs": [
    {
     "name": "stdout",
     "output_type": "stream",
     "text": [
      "Training RMSE: 7.649\n"
     ]
    }
   ],
   "source": [
    "# Question 5: Model training and RMSE\n",
    "from sklearn.linear_model import LinearRegression\n",
    "from sklearn.metrics import mean_squared_error\n",
    "import numpy as np\n",
    "\n",
    "df = df_jan_filtered.copy()\n",
    "y = df[\"duration\"].values\n",
    "\n",
    "# Instantiate and fit the model\n",
    "model = LinearRegression()\n",
    "model.fit(X, y)\n",
    "\n",
    "# Predict on the training set\n",
    "y_pred = model.predict(X)\n",
    "\n",
    "# Compute RMSE\n",
    "rmse = np.sqrt(mean_squared_error(y, y_pred))\n",
    "print(f\"Training RMSE: {rmse:.3f}\")"
   ]
  },
  {
   "cell_type": "code",
   "execution_count": 9,
   "metadata": {},
   "outputs": [
    {
     "name": "stdout",
     "output_type": "stream",
     "text": [
      "Training RMSE: 7.812\n"
     ]
    }
   ],
   "source": [
    "# Question 6: RMSE on the test set\n",
    "df_feb['duration'] = round((df_feb['tpep_dropoff_datetime'] - df_feb['tpep_pickup_datetime']).dt.total_seconds() / 60, 3)\n",
    "df_feb = df_feb[(df_feb.duration >= 1) & (df_feb.duration <= 60)]\n",
    "X_feb = dv.transform(df_feb[[\"PULocationID\", \"DOLocationID\"]].astype(str).to_dict(orient=\"records\"))\n",
    "y_feb = df_feb[\"duration\"].values\n",
    "y_pred_feb = model.predict(X_feb)\n",
    "\n",
    "# Compute RMSE\n",
    "rmse = np.sqrt(mean_squared_error(y_feb, y_pred_feb))\n",
    "print(f\"Training RMSE: {rmse:.3f}\")\n"
   ]
  }
 ],
 "metadata": {
  "kernelspec": {
   "display_name": ".venv",
   "language": "python",
   "name": "python3"
  },
  "language_info": {
   "codemirror_mode": {
    "name": "ipython",
    "version": 3
   },
   "file_extension": ".py",
   "mimetype": "text/x-python",
   "name": "python",
   "nbconvert_exporter": "python",
   "pygments_lexer": "ipython3",
   "version": "3.10.16"
  }
 },
 "nbformat": 4,
 "nbformat_minor": 2
}
